{
 "cells": [
  {
   "cell_type": "code",
   "execution_count": 1,
   "metadata": {
    "collapsed": true
   },
   "outputs": [],
   "source": [
    "%matplotlib inline\n",
    "import numpy as np\n",
    "import pandas as pd \n",
    "import matplotlib.pyplot as plt\n",
    "from sklearn.linear_model import LinearRegression"
   ]
  },
  {
   "cell_type": "markdown",
   "metadata": {},
   "source": [
    "### Linear Regression\n",
    "\n",
    "Gives relationship between two continuous (quantitative) variables. \n",
    "\n",
    "Simple linear regression $ y = \\beta_{0}+\\beta_{1}x $"
   ]
  },
  {
   "cell_type": "markdown",
   "metadata": {},
   "source": [
    "1. Simulating data points with noise  $ y = \\beta_{0}+\\beta_{1}x + \\epsilon $"
   ]
  },
  {
   "cell_type": "code",
   "execution_count": 2,
   "metadata": {
    "collapsed": false
   },
   "outputs": [
    {
     "data": {
      "text/plain": [
       "<matplotlib.collections.PathCollection at 0x7f5131fc9f98>"
      ]
     },
     "execution_count": 2,
     "metadata": {},
     "output_type": "execute_result"
    },
    {
     "data": {
      "image/png": "[encoded data removed]",
      "text/plain": [
       "<matplotlib.figure.Figure at 0x7f51341df400>"
      ]
     },
     "metadata": {},
     "output_type": "display_data"
    }
   ],
   "source": [
    "def simulate_points(a, b):\n",
    "    x = np.linspace(-2,3, 15)\n",
    "    y = a * x + b\n",
    "    return (x, y)\n",
    "    \n",
    "points = simulate_points(2,5)\n",
    "plt.scatter(points[0],points[1])"
   ]
  },
  {
   "cell_type": "code",
   "execution_count": 3,
   "metadata": {
    "collapsed": false
   },
   "outputs": [
    {
     "data": {
      "text/plain": [
       "<matplotlib.collections.PathCollection at 0x7f51315d1128>"
      ]
     },
     "execution_count": 3,
     "metadata": {},
     "output_type": "execute_result"
    },
    {
     "data": {
      "image/png": "[encoded data removed]",
      "text/plain": [
       "<matplotlib.figure.Figure at 0x7f5131fd2b70>"
      ]
     },
     "metadata": {},
     "output_type": "display_data"
    }
   ],
   "source": [
    "def simulate_points_with_noice(a, b, max_noise):\n",
    "    x = np.linspace(-2,3, 15)\n",
    "    epsilon = np.random.uniform(-max_noise, max_noise, len(x))  # getting both positive and negative values\n",
    "    y = a * x + b + epsilon\n",
    "    return (x, y)\n",
    "\n",
    "points = simulate_points_with_noice(2,5,2.5)\n",
    "plt.scatter(points[0],points[1])"
   ]
  },
  {
   "cell_type": "markdown",
   "metadata": {},
   "source": [
    "We need to find a line which best goes through this points"
   ]
  },
  {
   "cell_type": "markdown",
   "metadata": {},
   "source": [
    "Create empty model"
   ]
  },
  {
   "cell_type": "code",
   "execution_count": 4,
   "metadata": {
    "collapsed": true
   },
   "outputs": [],
   "source": [
    "model = LinearRegression()"
   ]
  },
  {
   "cell_type": "markdown",
   "metadata": {},
   "source": [
    "We need to learn our model and to test it. First step is reshaping the data"
   ]
  },
  {
   "cell_type": "code",
   "execution_count": 13,
   "metadata": {
    "collapsed": false
   },
   "outputs": [
    {
     "name": "stdout",
     "output_type": "stream",
     "text": [
      "Reshaping the data\n",
      " [-2.         -1.64285714 -1.28571429 -0.92857143 -0.57142857 -0.21428571\n",
      "  0.14285714  0.5         0.85714286  1.21428571  1.57142857  1.92857143\n",
      "  2.28571429  2.64285714  3.        ]\n",
      "\n",
      "Data, reshaped: \n",
      " [[-2.        ]\n",
      " [-1.64285714]\n",
      " [-1.28571429]\n",
      " [-0.92857143]\n",
      " [-0.57142857]\n",
      " [-0.21428571]\n",
      " [ 0.14285714]\n",
      " [ 0.5       ]\n",
      " [ 0.85714286]\n",
      " [ 1.21428571]\n",
      " [ 1.57142857]\n",
      " [ 1.92857143]\n",
      " [ 2.28571429]\n",
      " [ 2.64285714]\n",
      " [ 3.        ]]\n"
     ]
    }
   ],
   "source": [
    "print(\"Reshaping the data\\n\",points[0])\n",
    "\n",
    "reshaped =points[0].reshape(-1,1)\n",
    "print(\"\\nData, reshaped: \\n\",reshaped)"
   ]
  },
  {
   "cell_type": "code",
   "execution_count": 44,
   "metadata": {
    "collapsed": false
   },
   "outputs": [
    {
     "data": {
      "text/plain": [
       "array([  0.24414559,   0.29448712,   0.31323552,   1.15415593,\n",
       "         3.23683655,   3.89339152,   4.05415574,   6.26694511,\n",
       "         6.85537537,   6.64172469,   6.86163222,   7.92538862,\n",
       "         8.32316618,  10.53816076,  13.04264671])"
      ]
     },
     "execution_count": 44,
     "metadata": {},
     "output_type": "execute_result"
    }
   ],
   "source": [
    "points[1]"
   ]
  },
  {
   "cell_type": "code",
   "execution_count": 14,
   "metadata": {
    "collapsed": false
   },
   "outputs": [
    {
     "data": {
      "text/plain": [
       "LinearRegression(copy_X=True, fit_intercept=True, n_jobs=1, normalize=False)"
      ]
     },
     "execution_count": 14,
     "metadata": {},
     "output_type": "execute_result"
    }
   ],
   "source": [
    "# takes two main arguments - Training data, Target values. Tird one is Individual weights for each sample\n",
    "model.fit(reshaped, points[1])"
   ]
  },
  {
   "cell_type": "markdown",
   "metadata": {},
   "source": [
    "We have trained model. There are input parameters and such calculated in the process of thraining. The output parameters ends with underscore _"
   ]
  },
  {
   "cell_type": "markdown",
   "metadata": {},
   "source": [
    "To see the coefficients in the model (that are behind each attribute)"
   ]
  },
  {
   "cell_type": "code",
   "execution_count": 15,
   "metadata": {
    "collapsed": false
   },
   "outputs": [
    {
     "data": {
      "text/plain": [
       "array([ 2.37358407])"
      ]
     },
     "execution_count": 15,
     "metadata": {},
     "output_type": "execute_result"
    }
   ],
   "source": [
    "model.coef_"
   ]
  },
  {
   "cell_type": "code",
   "execution_count": 24,
   "metadata": {
    "collapsed": false
   },
   "outputs": [
    {
     "data": {
      "text/plain": [
       "2.3735840664971137"
      ]
     },
     "execution_count": 24,
     "metadata": {},
     "output_type": "execute_result"
    }
   ],
   "source": [
    "model.coef_[0]"
   ]
  },
  {
   "cell_type": "code",
   "execution_count": 16,
   "metadata": {
    "collapsed": false
   },
   "outputs": [
    {
     "data": {
      "text/plain": [
       "4.1229044744068899"
      ]
     },
     "execution_count": 16,
     "metadata": {},
     "output_type": "execute_result"
    }
   ],
   "source": [
    "model.intercept_"
   ]
  },
  {
   "cell_type": "markdown",
   "metadata": {},
   "source": [
    "The meaning of above is expressed by the graphic line: y = 2.37358407x + 4.1229044744068899"
   ]
  },
  {
   "cell_type": "markdown",
   "metadata": {},
   "source": [
    "We can see the predic output for value 3"
   ]
  },
  {
   "cell_type": "code",
   "execution_count": 19,
   "metadata": {
    "collapsed": false
   },
   "outputs": [
    {
     "data": {
      "text/plain": [
       "array([ 11.24365667])"
      ]
     },
     "execution_count": 19,
     "metadata": {},
     "output_type": "execute_result"
    }
   ],
   "source": [
    "model.predict(3)"
   ]
  },
  {
   "cell_type": "markdown",
   "metadata": {},
   "source": [
    "To predict many values"
   ]
  },
  {
   "cell_type": "code",
   "execution_count": 21,
   "metadata": {
    "collapsed": false
   },
   "outputs": [
    {
     "data": {
      "text/plain": [
       "array([ 4.12290447,  6.49648854,  8.87007261])"
      ]
     },
     "execution_count": 21,
     "metadata": {},
     "output_type": "execute_result"
    }
   ],
   "source": [
    "model.predict([[0], [1], [2]])"
   ]
  },
  {
   "cell_type": "markdown",
   "metadata": {},
   "source": [
    "Plot the line that models the data and the data used to train the model."
   ]
  },
  {
   "cell_type": "code",
   "execution_count": 43,
   "metadata": {
    "collapsed": false
   },
   "outputs": [
    {
     "data": {
      "image/png": "[encoded data removed]",
      "text/plain": [
       "<matplotlib.figure.Figure at 0x7f5130ea7d68>"
      ]
     },
     "metadata": {},
     "output_type": "display_data"
    }
   ],
   "source": [
    "x_fit = np.linspace(-2,3,10)\n",
    "y_fit = model.coef_[0] * x_fit + model.intercept_\n",
    "plt.scatter(points[0],points[1])\n",
    "plt.plot(x_fit,y_fit,color=\"red\",ls=\"dashed\")\n",
    "plt.margins(0.01)"
   ]
  }
 ],
 "metadata": {
  "anaconda-cloud": {},
  "kernelspec": {
   "display_name": "Python [conda root]",
   "language": "python",
   "name": "conda-root-py"
  },
  "language_info": {
   "codemirror_mode": {
    "name": "ipython",
    "version": 3
   },
   "file_extension": ".py",
   "mimetype": "text/x-python",
   "name": "python",
   "nbconvert_exporter": "python",
   "pygments_lexer": "ipython3",
   "version": "3.5.2"
  }
 },
 "nbformat": 4,
 "nbformat_minor": 1
}
