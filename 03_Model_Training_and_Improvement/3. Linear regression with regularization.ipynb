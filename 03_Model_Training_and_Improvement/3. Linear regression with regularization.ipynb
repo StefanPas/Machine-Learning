{
 "cells": [
  {
   "cell_type": "code",
   "execution_count": 47,
   "metadata": {
    "collapsed": false
   },
   "outputs": [],
   "source": [
    "%matplotlib inline\n",
    "import numpy as np\n",
    "import pandas as pd \n",
    "import matplotlib.pyplot as plt\n",
    "from sklearn.linear_model import LinearRegression, ElasticNet, Lasso, Ridge"
   ]
  },
  {
   "cell_type": "code",
   "execution_count": 48,
   "metadata": {
    "collapsed": true
   },
   "outputs": [],
   "source": [
    "housing = pd.read_fwf(\"https://archive.ics.uci.edu/ml/machine-learning-databases/housing/housing.data\", header = None)\n",
    "\n",
    "linear = LinearRegression()\n",
    "regularized = ElasticNet(alpha = 10, l1_ratio = 0.1)"
   ]
  },
  {
   "cell_type": "code",
   "execution_count": 37,
   "metadata": {
    "collapsed": false
   },
   "outputs": [
    {
     "data": {
      "text/html": [
       "<div>\n",
       "<table border=\"1\" class=\"dataframe\">\n",
       "  <thead>\n",
       "    <tr style=\"text-align: right;\">\n",
       "      <th></th>\n",
       "      <th>0</th>\n",
       "      <th>1</th>\n",
       "      <th>2</th>\n",
       "      <th>3</th>\n",
       "      <th>4</th>\n",
       "      <th>5</th>\n",
       "      <th>6</th>\n",
       "      <th>7</th>\n",
       "      <th>8</th>\n",
       "      <th>9</th>\n",
       "      <th>10</th>\n",
       "      <th>11</th>\n",
       "      <th>12</th>\n",
       "    </tr>\n",
       "  </thead>\n",
       "  <tbody>\n",
       "    <tr>\n",
       "      <th>0</th>\n",
       "      <td>0.00632</td>\n",
       "      <td>18.0</td>\n",
       "      <td>2.31</td>\n",
       "      <td>0</td>\n",
       "      <td>0.538</td>\n",
       "      <td>6.575</td>\n",
       "      <td>65.2</td>\n",
       "      <td>4.0900</td>\n",
       "      <td>1</td>\n",
       "      <td>296.0</td>\n",
       "      <td>15.3</td>\n",
       "      <td>396.90</td>\n",
       "      <td>4.98</td>\n",
       "    </tr>\n",
       "    <tr>\n",
       "      <th>1</th>\n",
       "      <td>0.02731</td>\n",
       "      <td>0.0</td>\n",
       "      <td>7.07</td>\n",
       "      <td>0</td>\n",
       "      <td>0.469</td>\n",
       "      <td>6.421</td>\n",
       "      <td>78.9</td>\n",
       "      <td>4.9671</td>\n",
       "      <td>2</td>\n",
       "      <td>242.0</td>\n",
       "      <td>17.8</td>\n",
       "      <td>396.90</td>\n",
       "      <td>9.14</td>\n",
       "    </tr>\n",
       "    <tr>\n",
       "      <th>2</th>\n",
       "      <td>0.02729</td>\n",
       "      <td>0.0</td>\n",
       "      <td>7.07</td>\n",
       "      <td>0</td>\n",
       "      <td>0.469</td>\n",
       "      <td>7.185</td>\n",
       "      <td>61.1</td>\n",
       "      <td>4.9671</td>\n",
       "      <td>2</td>\n",
       "      <td>242.0</td>\n",
       "      <td>17.8</td>\n",
       "      <td>392.83</td>\n",
       "      <td>4.03</td>\n",
       "    </tr>\n",
       "    <tr>\n",
       "      <th>3</th>\n",
       "      <td>0.03237</td>\n",
       "      <td>0.0</td>\n",
       "      <td>2.18</td>\n",
       "      <td>0</td>\n",
       "      <td>0.458</td>\n",
       "      <td>6.998</td>\n",
       "      <td>45.8</td>\n",
       "      <td>6.0622</td>\n",
       "      <td>3</td>\n",
       "      <td>222.0</td>\n",
       "      <td>18.7</td>\n",
       "      <td>394.63</td>\n",
       "      <td>2.94</td>\n",
       "    </tr>\n",
       "    <tr>\n",
       "      <th>4</th>\n",
       "      <td>0.06905</td>\n",
       "      <td>0.0</td>\n",
       "      <td>2.18</td>\n",
       "      <td>0</td>\n",
       "      <td>0.458</td>\n",
       "      <td>7.147</td>\n",
       "      <td>54.2</td>\n",
       "      <td>6.0622</td>\n",
       "      <td>3</td>\n",
       "      <td>222.0</td>\n",
       "      <td>18.7</td>\n",
       "      <td>396.90</td>\n",
       "      <td>5.33</td>\n",
       "    </tr>\n",
       "  </tbody>\n",
       "</table>\n",
       "</div>"
      ],
      "text/plain": [
       "        0     1     2   3      4      5     6       7   8      9     10  \\\n",
       "0  0.00632  18.0  2.31   0  0.538  6.575  65.2  4.0900   1  296.0  15.3   \n",
       "1  0.02731   0.0  7.07   0  0.469  6.421  78.9  4.9671   2  242.0  17.8   \n",
       "2  0.02729   0.0  7.07   0  0.469  7.185  61.1  4.9671   2  242.0  17.8   \n",
       "3  0.03237   0.0  2.18   0  0.458  6.998  45.8  6.0622   3  222.0  18.7   \n",
       "4  0.06905   0.0  2.18   0  0.458  7.147  54.2  6.0622   3  222.0  18.7   \n",
       "\n",
       "       11    12  \n",
       "0  396.90  4.98  \n",
       "1  396.90  9.14  \n",
       "2  392.83  4.03  \n",
       "3  394.63  2.94  \n",
       "4  396.90  5.33  "
      ]
     },
     "execution_count": 37,
     "metadata": {},
     "output_type": "execute_result"
    }
   ],
   "source": [
    "attributes = housing.iloc[:, :-1] #getting all rows and all columns without the last column\n",
    "attributes.head()"
   ]
  },
  {
   "cell_type": "code",
   "execution_count": 38,
   "metadata": {
    "collapsed": false
   },
   "outputs": [
    {
     "data": {
      "text/plain": [
       "(506, 13)"
      ]
     },
     "execution_count": 38,
     "metadata": {},
     "output_type": "execute_result"
    }
   ],
   "source": [
    "attributes.shape"
   ]
  },
  {
   "cell_type": "code",
   "execution_count": 39,
   "metadata": {
    "collapsed": false
   },
   "outputs": [
    {
     "data": {
      "text/plain": [
       "(506,)"
      ]
     },
     "execution_count": 39,
     "metadata": {},
     "output_type": "execute_result"
    }
   ],
   "source": [
    "labels = housing.iloc[:,-1]\n",
    "labels.shape"
   ]
  },
  {
   "cell_type": "code",
   "execution_count": 40,
   "metadata": {
    "collapsed": false
   },
   "outputs": [
    {
     "data": {
      "text/plain": [
       "array([ 24. ,  21.6,  34.7,  33.4,  36.2,  28.7,  22.9,  27.1,  16.5,\n",
       "        18.9,  15. ,  21.7,  20.4,  18.2,  19.9,  23.1,  17.5,  20.2,\n",
       "        13.6,  19.6,  15.2,  14.5,  15.6,  13.9,  16.6,  14.8,  18.4,\n",
       "        21. ,  12.7,  13.2,  13.1,  13.5,  20. ,  24.7,  30.8,  34.9,\n",
       "        26.6,  25.3,  21.2,  19.3,  14.4,  19.4,  19.7,  20.5,  25. ,\n",
       "        23.4,  35.4,  31.6,  23.3,  18.7,  16. ,  22.2,  33. ,  23.5,\n",
       "        22. ,  17.4,  20.9,  24.2,  22.8,  24.1,  21.4,  20.8,  20.3,\n",
       "        28. ,  23.9,  24.8,  22.5,  23.6,  22.6,  20.6,  28.4,  38.7,\n",
       "        43.8,  33.2,  27.5,  26.5,  18.6,  20.1,  19.5,  19.8,  18.8,\n",
       "        18.5,  18.3,  19.2,  17.3,  15.7,  16.2,  18. ,  14.3,  23. ,\n",
       "        18.1,  17.1,  13.3,  17.8,  14. ,  13.4,  11.8,  13.8,  14.6,\n",
       "        15.4,  21.5,  15.3,  17. ,  41.3,  24.3,  27. ,  50. ,  22.7,\n",
       "        23.8,  22.3,  19.1,  29.4,  23.2,  24.6,  29.9,  37.2,  39.8,\n",
       "        37.9,  32.5,  26.4,  29.6,  32. ,  29.8,  37. ,  30.5,  36.4,\n",
       "        31.1,  29.1,  33.3,  30.3,  34.6,  32.9,  42.3,  48.5,  24.4,\n",
       "        22.4,  28.1,  23.7,  26.7,  30.1,  44.8,  37.6,  46.7,  31.5,\n",
       "        31.7,  41.7,  48.3,  29. ,  25.1,  17.6,  24.5,  26.2,  42.8,\n",
       "        21.9,  44. ,  36. ,  33.8,  43.1,  48.8,  31. ,  36.5,  30.7,\n",
       "        43.5,  20.7,  21.1,  25.2,  35.2,  32.4,  33.1,  35.1,  45.4,\n",
       "        46. ,  32.2,  28.5,  37.3,  27.9,  28.6,  36.1,  28.2,  16.1,\n",
       "        22.1,  19. ,  32.7,  31.2,  17.2,  16.8,  10.2,  10.4,  10.9,\n",
       "        11.3,  12.3,   8.8,   7.2,  10.5,   7.4,  11.5,  15.1,   9.7,\n",
       "        12.5,   8.5,   5. ,   6.3,   5.6,  12.1,   8.3,  11.9,  17.9,\n",
       "        16.3,   7. ,   7.5,   8.4,  16.7,  14.2,  11.7,  11. ,   9.5,\n",
       "        14.1,   9.6,   8.7,  12.8,  10.8,  14.9,  12.6,  13. ,  16.4,\n",
       "        17.7,  12. ,  21.8,   8.1])"
      ]
     },
     "execution_count": 40,
     "metadata": {},
     "output_type": "execute_result"
    }
   ],
   "source": [
    "labels.unique()"
   ]
  },
  {
   "cell_type": "code",
   "execution_count": 41,
   "metadata": {
    "collapsed": false
   },
   "outputs": [
    {
     "data": {
      "text/plain": [
       "LinearRegression(copy_X=True, fit_intercept=True, n_jobs=1, normalize=False)"
      ]
     },
     "execution_count": 41,
     "metadata": {},
     "output_type": "execute_result"
    }
   ],
   "source": [
    "linear.fit(attributes, labels)"
   ]
  },
  {
   "cell_type": "markdown",
   "metadata": {},
   "source": [
    "Getting linear coeficients"
   ]
  },
  {
   "cell_type": "code",
   "execution_count": 42,
   "metadata": {
    "collapsed": false
   },
   "outputs": [
    {
     "data": {
      "text/plain": [
       "array([  2.09281375e-01,   1.49403979e-02,   1.27164577e-02,\n",
       "         3.00565375e+00,  -1.55234852e+01,   4.29955958e+00,\n",
       "         2.84848139e-03,  -1.08366345e+00,   1.93258621e-01,\n",
       "        -2.42034372e-03,  -9.65535221e-01,   9.43510233e-03,\n",
       "        -5.25242783e-01])"
      ]
     },
     "execution_count": 42,
     "metadata": {},
     "output_type": "execute_result"
    }
   ],
   "source": [
    "linear.coef_"
   ]
  },
  {
   "cell_type": "code",
   "execution_count": 43,
   "metadata": {
    "collapsed": false
   },
   "outputs": [
    {
     "data": {
      "text/plain": [
       "ElasticNet(alpha=10, copy_X=True, fit_intercept=True, l1_ratio=0.1,\n",
       "      max_iter=1000, normalize=False, positive=False, precompute=False,\n",
       "      random_state=None, selection='cyclic', tol=0.0001, warm_start=False)"
      ]
     },
     "execution_count": 43,
     "metadata": {},
     "output_type": "execute_result"
    }
   ],
   "source": [
    "regularized.fit(attributes, labels)"
   ]
  },
  {
   "cell_type": "code",
   "execution_count": 44,
   "metadata": {
    "collapsed": false
   },
   "outputs": [
    {
     "data": {
      "text/plain": [
       "array([ 0.        ,  0.04662724, -0.02215707,  0.        , -0.        ,\n",
       "        0.09519651,  0.03318902, -0.06521052,  0.        , -0.00743636,\n",
       "       -0.23847899,  0.00793473, -0.66007712])"
      ]
     },
     "execution_count": 44,
     "metadata": {},
     "output_type": "execute_result"
    }
   ],
   "source": [
    "regularized.coef_"
   ]
  },
  {
   "cell_type": "markdown",
   "metadata": {},
   "source": [
    "We have a siplier model as an output"
   ]
  },
  {
   "cell_type": "markdown",
   "metadata": {},
   "source": [
    "We can test by changing weight and attributes parameters"
   ]
  },
  {
   "cell_type": "code",
   "execution_count": 46,
   "metadata": {
    "collapsed": false
   },
   "outputs": [
    {
     "data": {
      "text/plain": [
       "array([ 0.        ,  0.01378854, -0.        , -0.        ,  0.        ,\n",
       "       -0.        , -0.        , -0.        , -0.        , -0.02090492,\n",
       "        0.        ,  0.01114263, -0.        ])"
      ]
     },
     "execution_count": 46,
     "metadata": {},
     "output_type": "execute_result"
    }
   ],
   "source": [
    "regularized2 = ElasticNet(alpha = 20, l1_ratio = 2)\n",
    "regularized2.fit(attributes, labels)\n",
    "regularized2.coef_"
   ]
  }
 ],
 "metadata": {
  "anaconda-cloud": {},
  "kernelspec": {
   "display_name": "Python [conda root]",
   "language": "python",
   "name": "conda-root-py"
  },
  "language_info": {
   "codemirror_mode": {
    "name": "ipython",
    "version": 3
   },
   "file_extension": ".py",
   "mimetype": "text/x-python",
   "name": "python",
   "nbconvert_exporter": "python",
   "pygments_lexer": "ipython3",
   "version": "3.5.2"
  }
 },
 "nbformat": 4,
 "nbformat_minor": 1
}
