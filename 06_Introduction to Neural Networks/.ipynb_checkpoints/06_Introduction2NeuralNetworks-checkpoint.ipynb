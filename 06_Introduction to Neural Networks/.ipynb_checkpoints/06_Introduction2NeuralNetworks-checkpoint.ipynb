{
 "cells": [
  {
   "cell_type": "code",
   "execution_count": 1,
   "metadata": {
    "collapsed": true
   },
   "outputs": [],
   "source": [
    "%matplotlib inline\n",
    "import matplotlib.pyplot as plt\n",
    "import pandas as pd\n",
    "import numpy as np\n",
    "\n",
    "from sklearn.linear_model import Perceptron\n",
    "from sklearn.datasets import make_blobs"
   ]
  },
  {
   "cell_type": "code",
   "execution_count": 2,
   "metadata": {
    "collapsed": true
   },
   "outputs": [],
   "source": [
    "blobs, labels = make_blobs()"
   ]
  },
  {
   "cell_type": "code",
   "execution_count": 17,
   "metadata": {
    "collapsed": false
   },
   "outputs": [
    {
     "name": "stdout",
     "output_type": "stream",
     "text": [
      "[[ -3.34800865   5.23946923]\n",
      " [ -2.36797435   5.93773201]\n",
      " [ -1.08245887   4.92242815]\n",
      " [  8.83656845   3.13782744]\n",
      " [  8.54813919   6.5424719 ]\n",
      " [  8.41745289   5.96958708]\n",
      " [ -2.29325373   6.16860634]\n",
      " [ -1.70469722   7.08705122]\n",
      " [  7.8443794    5.81299342]\n",
      " [ -3.55756299   7.00294446]\n",
      " [  7.17085658   7.05414804]\n",
      " [ 10.15428574   7.01920773]\n",
      " [ 11.36146835   6.59634878]\n",
      " [ -1.77227319   7.70780514]\n",
      " [  8.63313979   6.50633952]\n",
      " [  7.99677705   5.43456582]\n",
      " [ -2.03539833   5.19357926]\n",
      " [  9.21457783   5.52574519]\n",
      " [  8.31779953   6.44230074]\n",
      " [ -2.12426497   8.57324336]\n",
      " [ -3.42690252   6.87255179]\n",
      " [ -0.18642006   5.98235622]\n",
      " [  9.36969628   6.80347732]\n",
      " [ 11.18965266   6.18992618]\n",
      " [  8.96323761   6.26549581]\n",
      " [ 10.2212282    6.89768705]\n",
      " [ -2.04750399   7.6783596 ]\n",
      " [  9.4783627    5.37748908]\n",
      " [  9.47389794   7.54813085]\n",
      " [ 10.49681978   6.14139211]\n",
      " [ 11.53699096   6.23761331]\n",
      " [ 10.62970737   6.4362257 ]\n",
      " [  9.94483817   7.56137368]\n",
      " [  9.88014472   6.65620961]\n",
      " [  7.68896601   4.56012792]\n",
      " [  9.23689054   5.81111284]\n",
      " [ -0.73242395   4.51878038]\n",
      " [ -0.69611121   6.51535696]\n",
      " [  9.30938414   6.46174476]\n",
      " [ -1.92426754   6.42520424]\n",
      " [  8.10001609   6.25612345]\n",
      " [  9.0054841    5.67254101]\n",
      " [ -1.7860772    4.94909816]\n",
      " [ -2.3346118    5.51162413]\n",
      " [  8.09497187   4.30577282]\n",
      " [  9.19976614   4.98436065]\n",
      " [  9.8060991    4.76345754]\n",
      " [ 10.62916339   7.62098955]\n",
      " [  8.43386544   6.41186258]\n",
      " [  9.27220376   4.84895049]\n",
      " [  9.17186539   4.72153227]\n",
      " [ 10.62428465   5.38325175]\n",
      " [  8.88130344   4.87204521]\n",
      " [  8.93590969   6.1877516 ]\n",
      " [  8.78530134   6.35556174]\n",
      " [ -2.15674235   5.46515185]\n",
      " [  7.87479297   5.56177868]\n",
      " [  9.62037783   5.49611221]\n",
      " [ -2.72498299   4.98159776]\n",
      " [ -2.22936526   5.74821377]\n",
      " [ -2.26668746   7.81931873]\n",
      " [ -2.14993558   6.14012277]\n",
      " [  9.69782916   6.8142976 ]\n",
      " [ -1.17924627   6.02918346]\n",
      " [ 10.17675681   5.04358552]\n",
      " [  7.86577262   6.51466769]\n",
      " [  9.92735422   6.03421907]\n",
      " [  9.64725241   5.871742  ]\n",
      " [  7.13609799   6.32530938]\n",
      " [  6.89858979   5.8034955 ]\n",
      " [ -1.19377851   7.53532779]\n",
      " [  6.80544703   6.97029181]\n",
      " [ -2.15415966   5.3394074 ]\n",
      " [  9.6252046    5.9542923 ]\n",
      " [ 11.16310576   6.52332491]\n",
      " [  8.74978855   6.32525592]\n",
      " [ -1.64905946   5.29389593]\n",
      " [ -1.6771582    5.97163079]\n",
      " [  9.6192022    6.847203  ]\n",
      " [ 10.63950998   6.20503652]\n",
      " [ -3.85909636   5.12039875]\n",
      " [  8.58900753   7.96182909]\n",
      " [  8.6605331    5.44728733]\n",
      " [  7.47952581   6.95619018]\n",
      " [ -0.5775487    8.12014868]\n",
      " [ -0.7733893    4.93026747]\n",
      " [ 10.59051956   6.41783279]\n",
      " [  7.41937951   5.86340433]\n",
      " [  7.41960275   7.37945897]\n",
      " [  8.78052778   6.49899675]\n",
      " [ -2.04422403   4.65743866]\n",
      " [  9.88900008   4.76128146]\n",
      " [ -1.55555478   6.2473677 ]\n",
      " [  9.4405778    6.41425971]\n",
      " [ -0.8691216    5.79795177]\n",
      " [  8.77571996   6.30328416]\n",
      " [  7.44114349   7.7716394 ]\n",
      " [  9.58654756   5.4774205 ]\n",
      " [ 10.99573751   5.7780613 ]\n",
      " [  8.6396775    6.65293891]]\n",
      "\n",
      "[1 1 1 2 2 2 1 1 2 1]\n"
     ]
    }
   ],
   "source": [
    "print(blobs)\n",
    "print()\n",
    "print(labels[:10])"
   ]
  },
  {
   "cell_type": "code",
   "execution_count": 18,
   "metadata": {
    "collapsed": false
   },
   "outputs": [
    {
     "data": {
      "text/plain": [
       "array([ 5.23946923,  5.93773201,  4.92242815,  3.13782744,  6.5424719 ,\n",
       "        5.96958708,  6.16860634,  7.08705122,  5.81299342,  7.00294446,\n",
       "        7.05414804,  7.01920773,  6.59634878,  7.70780514,  6.50633952,\n",
       "        5.43456582,  5.19357926,  5.52574519,  6.44230074,  8.57324336,\n",
       "        6.87255179,  5.98235622,  6.80347732,  6.18992618,  6.26549581,\n",
       "        6.89768705,  7.6783596 ,  5.37748908,  7.54813085,  6.14139211,\n",
       "        6.23761331,  6.4362257 ,  7.56137368,  6.65620961,  4.56012792,\n",
       "        5.81111284,  4.51878038,  6.51535696,  6.46174476,  6.42520424,\n",
       "        6.25612345,  5.67254101,  4.94909816,  5.51162413,  4.30577282,\n",
       "        4.98436065,  4.76345754,  7.62098955,  6.41186258,  4.84895049,\n",
       "        4.72153227,  5.38325175,  4.87204521,  6.1877516 ,  6.35556174,\n",
       "        5.46515185,  5.56177868,  5.49611221,  4.98159776,  5.74821377,\n",
       "        7.81931873,  6.14012277,  6.8142976 ,  6.02918346,  5.04358552,\n",
       "        6.51466769,  6.03421907,  5.871742  ,  6.32530938,  5.8034955 ,\n",
       "        7.53532779,  6.97029181,  5.3394074 ,  5.9542923 ,  6.52332491,\n",
       "        6.32525592,  5.29389593,  5.97163079,  6.847203  ,  6.20503652,\n",
       "        5.12039875,  7.96182909,  5.44728733,  6.95619018,  8.12014868,\n",
       "        4.93026747,  6.41783279,  5.86340433,  7.37945897,  6.49899675,\n",
       "        4.65743866,  4.76128146,  6.2473677 ,  6.41425971,  5.79795177,\n",
       "        6.30328416,  7.7716394 ,  5.4774205 ,  5.7780613 ,  6.65293891])"
      ]
     },
     "execution_count": 18,
     "metadata": {},
     "output_type": "execute_result"
    }
   ],
   "source": []
  },
  {
   "cell_type": "code",
   "execution_count": 13,
   "metadata": {
    "collapsed": false
   },
   "outputs": [
    {
     "data": {
      "text/plain": [
       "<matplotlib.collections.PathCollection at 0x7f4d93591470>"
      ]
     },
     "execution_count": 13,
     "metadata": {},
     "output_type": "execute_result"
    },
    {
     "data": {
      "image/png": "[encoded data removed]",
      "text/plain": [
       "<matplotlib.figure.Figure at 0x7f4d958c6588>"
      ]
     },
     "metadata": {},
     "output_type": "display_data"
    }
   ],
   "source": [
    "plt.scatter(blobs[:,0], blobs[:,1])"
   ]
  },
  {
   "cell_type": "code",
   "execution_count": null,
   "metadata": {
    "collapsed": true
   },
   "outputs": [],
   "source": []
  },
  {
   "cell_type": "code",
   "execution_count": null,
   "metadata": {
    "collapsed": true
   },
   "outputs": [],
   "source": []
  },
  {
   "cell_type": "code",
   "execution_count": null,
   "metadata": {
    "collapsed": true
   },
   "outputs": [],
   "source": [
    "perceptron = Perceptron()"
   ]
  }
 ],
 "metadata": {
  "anaconda-cloud": {},
  "kernelspec": {
   "display_name": "Python [conda root]",
   "language": "python",
   "name": "conda-root-py"
  },
  "language_info": {
   "codemirror_mode": {
    "name": "ipython",
    "version": 3
   },
   "file_extension": ".py",
   "mimetype": "text/x-python",
   "name": "python",
   "nbconvert_exporter": "python",
   "pygments_lexer": "ipython3",
   "version": "3.5.2"
  }
 },
 "nbformat": 4,
 "nbformat_minor": 1
}
